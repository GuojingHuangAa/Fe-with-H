{
 "cells": [
  {
   "cell_type": "markdown",
   "id": "b672c62f-8fdb-492c-97a5-6dc71d9c67ca",
   "metadata": {},
   "source": [
    "### C. Hydrogen solubility and diffusivity in bulk α-iron"
   ]
  },
  {
   "cell_type": "code",
   "execution_count": 65,
   "id": "608e6d3a-c3ec-427c-a331-b63f0238577f",
   "metadata": {},
   "outputs": [],
   "source": [
    "import pyiron\n",
    "import ase.calculators\n",
    "import ase.optimize\n",
    "import ase.neb\n",
    "import ase.visualize\n",
    "import matplotlib.pyplot as plt\n",
    "import numpy as np\n",
    "import scipy.optimize"
   ]
  },
  {
   "cell_type": "code",
   "execution_count": 2,
   "id": "06623ad6-ad02-4fc4-bc86-ee6873ee9a40",
   "metadata": {},
   "outputs": [],
   "source": [
    "potential =  'FeH-NNIP'"
   ]
  },
  {
   "cell_type": "markdown",
   "id": "5d7da7d6-08ac-45a0-8caf-bd366ab17573",
   "metadata": {},
   "source": [
    "1. solution energy\n",
    "\n",
    "$$E_s = E_{Fe+H} - E_{Fe}- E_{H_2}/2$$\n",
    "\n",
    "$E_{H_2}/2$: the energy of a gaseous $H_2$ molecule"
   ]
  },
  {
   "cell_type": "code",
   "execution_count": 22,
   "id": "1a80bc03-0fcb-409f-ba46-f2d4375744df",
   "metadata": {},
   "outputs": [
    {
     "name": "stdout",
     "output_type": "stream",
     "text": [
      "The job bulk was saved and received the ID: 10592\n"
     ]
    }
   ],
   "source": [
    "# calculation of E_Fe\n",
    "pr = pyiron.Project('solution_E')\n",
    "job = pr.create.job.Lammps('bulk', delete_existing_job=True)\n",
    "bulk = pr.create.structure.bulk('Fe', cubic=True).repeat([3,3,3])\n",
    "job.structure = bulk\n",
    "job.potential = potential\n",
    "job.calc_minimize(pressure=0.0)\n",
    "job.run(delete_existing_job=True)"
   ]
  },
  {
   "cell_type": "code",
   "execution_count": 23,
   "id": "8bb3a4b3-23f8-4556-be2d-ac8d595181af",
   "metadata": {},
   "outputs": [],
   "source": [
    "E_Fe = job.output.energy_tot[-1]\n",
    "bulk = job.get_structure(-1)\n",
    "cell = bulk.get_cell()"
   ]
  },
  {
   "cell_type": "code",
   "execution_count": 37,
   "id": "503e9655-9daf-4be0-9a5f-6cfe762912f6",
   "metadata": {},
   "outputs": [
    {
     "data": {
      "application/vnd.jupyter.widget-view+json": {
       "model_id": "fca16aa8c68c4fe19f62c6fa3543f2a1",
       "version_major": 2,
       "version_minor": 0
      },
      "text/plain": [
       "NGLWidget()"
      ]
     },
     "metadata": {},
     "output_type": "display_data"
    }
   ],
   "source": [
    "# H at O-site\n",
    "bulk_H_O = bulk.copy()\n",
    "H = pr.create.structure.atoms('H', positions=[(2.83/2, 2.83, 2.83/2)], cell=cell)\n",
    "bulk_H_O += H\n",
    "bulk_H_O.plot3d()"
   ]
  },
  {
   "cell_type": "code",
   "execution_count": 38,
   "id": "7f76ffbd-4910-4ebf-ae7a-f203ddc45a0e",
   "metadata": {},
   "outputs": [
    {
     "name": "stdout",
     "output_type": "stream",
     "text": [
      "The job bulk_H_O was saved and received the ID: 10595\n"
     ]
    }
   ],
   "source": [
    "job = pr.create.job.Lammps('bulk_H_O', delete_existing_job=True)\n",
    "job.structure = bulk_H_O\n",
    "job.potential = potential\n",
    "job.calc_minimize()\n",
    "job.run(delete_existing_job=True)"
   ]
  },
  {
   "cell_type": "code",
   "execution_count": 39,
   "id": "f9c62c3f-18b9-4f5d-8baf-4a428ae2005c",
   "metadata": {},
   "outputs": [
    {
     "data": {
      "text/plain": [
       "-448.064760912784"
      ]
     },
     "execution_count": 39,
     "metadata": {},
     "output_type": "execute_result"
    }
   ],
   "source": [
    "E_Fe_H_O = job.output.energy_tot[-1]\n",
    "E_Fe_H_O"
   ]
  },
  {
   "cell_type": "code",
   "execution_count": 40,
   "id": "8c2562ad-38f6-45eb-8aa8-24e09bca3559",
   "metadata": {},
   "outputs": [
    {
     "data": {
      "text/plain": [
       "-3.021180453103966"
      ]
     },
     "execution_count": 40,
     "metadata": {},
     "output_type": "execute_result"
    }
   ],
   "source": [
    "E_Fe_H_O - E_Fe"
   ]
  },
  {
   "cell_type": "code",
   "execution_count": 41,
   "id": "ee2564ce-91f9-4a4a-ace3-d3fe5b68b7e8",
   "metadata": {},
   "outputs": [
    {
     "data": {
      "application/vnd.jupyter.widget-view+json": {
       "model_id": "81b91cfab61d49909df3e1c90a88fb2f",
       "version_major": 2,
       "version_minor": 0
      },
      "text/plain": [
       "NGLWidget()"
      ]
     },
     "metadata": {},
     "output_type": "display_data"
    }
   ],
   "source": [
    "# H at T-site\n",
    "\n",
    "bulk_H_T = bulk.copy()\n",
    "H = pr.create.structure.atoms('H', positions=[(2.83/4*6, 2.83/4*8, 2.83/4*6-2.83/4)], cell=cell)\n",
    "bulk_H_T += H\n",
    "bulk_H_T.plot3d()"
   ]
  },
  {
   "cell_type": "code",
   "execution_count": 42,
   "id": "64659109-10b3-4a93-b48f-f7e4d0758fe1",
   "metadata": {},
   "outputs": [
    {
     "name": "stdout",
     "output_type": "stream",
     "text": [
      "The job bulk_H_T was saved and received the ID: 10596\n"
     ]
    }
   ],
   "source": [
    "job = pr.create.job.Lammps('bulk_H_T', delete_existing_job=True)\n",
    "job.structure = bulk_H_T\n",
    "job.potential = potential\n",
    "job.calc_minimize()\n",
    "job.run(delete_existing_job=True)"
   ]
  },
  {
   "cell_type": "code",
   "execution_count": 43,
   "id": "b8bb9fc3-427a-4fe6-a88c-d1be293d0546",
   "metadata": {},
   "outputs": [
    {
     "data": {
      "text/plain": [
       "-448.175938372699"
      ]
     },
     "execution_count": 43,
     "metadata": {},
     "output_type": "execute_result"
    }
   ],
   "source": [
    "E_Fe_H_T = job.output.energy_tot[-1]\n",
    "E_Fe_H_T"
   ]
  },
  {
   "cell_type": "code",
   "execution_count": 51,
   "id": "45befa8c-665c-4f57-bb06-eacbdc757f22",
   "metadata": {},
   "outputs": [
    {
     "data": {
      "text/plain": [
       "-0.1111774599150408"
      ]
     },
     "execution_count": 51,
     "metadata": {},
     "output_type": "execute_result"
    }
   ],
   "source": [
    "E_Fe_H_T -E_Fe_H_O"
   ]
  },
  {
   "cell_type": "code",
   "execution_count": 46,
   "id": "ba989085-cef6-4742-909b-d08c17e1b9d5",
   "metadata": {},
   "outputs": [
    {
     "data": {
      "text/plain": [
       "-0.15300000000000002"
      ]
     },
     "execution_count": 46,
     "metadata": {},
     "output_type": "execute_result"
    }
   ],
   "source": [
    "0.236 - 0.389\n",
    "# E difference on paper"
   ]
  },
  {
   "cell_type": "code",
   "execution_count": 105,
   "id": "f1946b26-4cf6-49f3-848e-66a84e87dfa2",
   "metadata": {
    "scrolled": true
   },
   "outputs": [
    {
     "data": {
      "application/vnd.jupyter.widget-view+json": {
       "model_id": "b20ad281158a4abea6ab24eadcbd35a1",
       "version_major": 2,
       "version_minor": 0
      },
      "text/plain": [
       "NGLWidget(max_frame=1)"
      ]
     },
     "metadata": {},
     "output_type": "display_data"
    }
   ],
   "source": [
    "job = pr.load('bulk_H_T')\n",
    "job.animate_structures()"
   ]
  },
  {
   "cell_type": "code",
   "execution_count": 106,
   "id": "aa63ab61-757e-4449-ac13-5c83a8fe6e78",
   "metadata": {},
   "outputs": [
    {
     "data": {
      "text/plain": [
       "array([-447.9359933 , -448.17593837])"
      ]
     },
     "execution_count": 106,
     "metadata": {},
     "output_type": "execute_result"
    }
   ],
   "source": [
    "job.output.energy_tot"
   ]
  },
  {
   "cell_type": "markdown",
   "id": "16d58226-f495-42dd-bad0-a50295c2c67f",
   "metadata": {},
   "source": [
    "? \\\n",
    "$E_{Fe+H}$ = ...\\\n",
    "after inserting H, $E_{Fe+H}$ should be the energy before or after relaxation\\\n",
    "$E_{H_2}$ ~ 4.5 eV?"
   ]
  },
  {
   "cell_type": "code",
   "execution_count": 107,
   "id": "1a6fc47a-5d21-482e-b575-dc62a9ada10b",
   "metadata": {},
   "outputs": [
    {
     "data": {
      "text/plain": [
       "-0.75238956341002"
      ]
     },
     "execution_count": 107,
     "metadata": {},
     "output_type": "execute_result"
    }
   ],
   "source": [
    "job = pr.load('bulk_H_O')\n",
    "E_H_O_ms = job.output.energy_tot[0]\n",
    "job = pr.load('bulk_H_T')\n",
    "E_H_T_ms = job.output.energy_tot[-1]\n",
    "\n",
    "E_H_T_ms - E_H_O_ms"
   ]
  },
  {
   "cell_type": "code",
   "execution_count": 101,
   "id": "df760f7c-3173-4d79-9cf4-0e5040e389a3",
   "metadata": {},
   "outputs": [],
   "source": [
    "# print(E_Fe_H_T -  E_Fe)\n",
    "# print(E_Fe_H_O -  E_Fe)\n",
    "# E_Fe_H_T - E_Fe_H_O"
   ]
  },
  {
   "cell_type": "markdown",
   "id": "99c1de9f-192c-4d0a-9edc-5cfebc3051e5",
   "metadata": {},
   "source": [
    "2. Diffusion energy barrier (T to T)"
   ]
  },
  {
   "cell_type": "code",
   "execution_count": 60,
   "id": "3e851a3b-fd22-4d5e-a2f0-e5cee41a8c60",
   "metadata": {},
   "outputs": [
    {
     "data": {
      "application/vnd.jupyter.widget-view+json": {
       "model_id": "bfd7e4c019e345a5a402ad660eef4912",
       "version_major": 2,
       "version_minor": 0
      },
      "text/plain": [
       "NGLWidget()"
      ]
     },
     "metadata": {},
     "output_type": "display_data"
    }
   ],
   "source": [
    "bulk_H_T_imageI = bulk.copy()\n",
    "H = pr.create.structure.atoms('H', positions=[(2.83/4*6, 2.83/4*8, 2.83/4*6-2.83/4)], cell=cell)\n",
    "bulk_H_T_imageI += H\n",
    "bulk_H_T_imageI.plot3d()"
   ]
  },
  {
   "cell_type": "code",
   "execution_count": 61,
   "id": "5bbc7ab4-d686-43dd-b7cc-09535855afc9",
   "metadata": {},
   "outputs": [
    {
     "data": {
      "application/vnd.jupyter.widget-view+json": {
       "model_id": "909bb92b13174738a25969edf13b3399",
       "version_major": 2,
       "version_minor": 0
      },
      "text/plain": [
       "NGLWidget()"
      ]
     },
     "metadata": {},
     "output_type": "display_data"
    }
   ],
   "source": [
    "bulk_H_T_imageF = bulk.copy()\n",
    "H = pr.create.structure.atoms('H', positions=[(2.83/4*6, 2.83/4*8, 2.83/4)], cell=cell)\n",
    "bulk_H_T_imageF += H\n",
    "bulk_H_T_imageF.plot3d()"
   ]
  },
  {
   "cell_type": "code",
   "execution_count": 63,
   "id": "2bf0fe92-e642-48d5-a364-a21211510ce1",
   "metadata": {},
   "outputs": [],
   "source": [
    "IS = bulk_H_T_imageI.to_ase()\n",
    "FS = bulk_H_T_imageF.to_ase()"
   ]
  },
  {
   "cell_type": "markdown",
   "id": "2b7ad1e8-305d-4a2a-8ad8-f02680778660",
   "metadata": {},
   "source": [
    "LAMMPS calculator:"
   ]
  },
  {
   "cell_type": "code",
   "execution_count": 102,
   "id": "660a6cb1-fcee-4eb9-886b-3f9c89972ac6",
   "metadata": {},
   "outputs": [
    {
     "name": "stderr",
     "output_type": "stream",
     "text": [
      "/home/gu.huang/miniconda3/envs/pyiron/lib/python3.12/site-packages/ase/calculators/lammpsrun.py:191: UserWarning: You are using an old syntax to set 'parameters'.\n",
      "Please use LAMMPSRUN.set().\n",
      "  warnings.warn(self.legacy_warn_string.format(\"parameters\"))\n"
     ]
    },
    {
     "ename": "RuntimeError",
     "evalue": "Failed to retrieve any thermo_style-output",
     "output_type": "error",
     "traceback": [
      "\u001b[0;31m---------------------------------------------------------------------------\u001b[0m",
      "\u001b[0;31mRuntimeError\u001b[0m                              Traceback (most recent call last)",
      "Cell \u001b[0;32mIn[102], line 17\u001b[0m\n\u001b[1;32m     14\u001b[0m lammps \u001b[38;5;241m=\u001b[39m LAMMPS(parameters\u001b[38;5;241m=\u001b[39mparameters, files\u001b[38;5;241m=\u001b[39mfiles)\n\u001b[1;32m     16\u001b[0m NiH\u001b[38;5;241m.\u001b[39mcalc \u001b[38;5;241m=\u001b[39m lammps\n\u001b[0;32m---> 17\u001b[0m \u001b[43mNiH\u001b[49m\u001b[38;5;241;43m.\u001b[39;49m\u001b[43mget_potential_energy\u001b[49m\u001b[43m(\u001b[49m\u001b[43m)\u001b[49m\n",
      "File \u001b[0;32m~/miniconda3/envs/pyiron/lib/python3.12/site-packages/ase/atoms.py:731\u001b[0m, in \u001b[0;36mAtoms.get_potential_energy\u001b[0;34m(self, force_consistent, apply_constraint)\u001b[0m\n\u001b[1;32m    728\u001b[0m     energy \u001b[38;5;241m=\u001b[39m \u001b[38;5;28mself\u001b[39m\u001b[38;5;241m.\u001b[39m_calc\u001b[38;5;241m.\u001b[39mget_potential_energy(\n\u001b[1;32m    729\u001b[0m         \u001b[38;5;28mself\u001b[39m, force_consistent\u001b[38;5;241m=\u001b[39mforce_consistent)\n\u001b[1;32m    730\u001b[0m \u001b[38;5;28;01melse\u001b[39;00m:\n\u001b[0;32m--> 731\u001b[0m     energy \u001b[38;5;241m=\u001b[39m \u001b[38;5;28;43mself\u001b[39;49m\u001b[38;5;241;43m.\u001b[39;49m\u001b[43m_calc\u001b[49m\u001b[38;5;241;43m.\u001b[39;49m\u001b[43mget_potential_energy\u001b[49m\u001b[43m(\u001b[49m\u001b[38;5;28;43mself\u001b[39;49m\u001b[43m)\u001b[49m\n\u001b[1;32m    732\u001b[0m \u001b[38;5;28;01mif\u001b[39;00m apply_constraint:\n\u001b[1;32m    733\u001b[0m     \u001b[38;5;28;01mfor\u001b[39;00m constraint \u001b[38;5;129;01min\u001b[39;00m \u001b[38;5;28mself\u001b[39m\u001b[38;5;241m.\u001b[39mconstraints:\n",
      "File \u001b[0;32m~/miniconda3/envs/pyiron/lib/python3.12/site-packages/ase/calculators/calculator.py:709\u001b[0m, in \u001b[0;36mCalculator.get_potential_energy\u001b[0;34m(self, atoms, force_consistent)\u001b[0m\n\u001b[1;32m    708\u001b[0m \u001b[38;5;28;01mdef\u001b[39;00m \u001b[38;5;21mget_potential_energy\u001b[39m(\u001b[38;5;28mself\u001b[39m, atoms\u001b[38;5;241m=\u001b[39m\u001b[38;5;28;01mNone\u001b[39;00m, force_consistent\u001b[38;5;241m=\u001b[39m\u001b[38;5;28;01mFalse\u001b[39;00m):\n\u001b[0;32m--> 709\u001b[0m     energy \u001b[38;5;241m=\u001b[39m \u001b[38;5;28;43mself\u001b[39;49m\u001b[38;5;241;43m.\u001b[39;49m\u001b[43mget_property\u001b[49m\u001b[43m(\u001b[49m\u001b[38;5;124;43m'\u001b[39;49m\u001b[38;5;124;43menergy\u001b[39;49m\u001b[38;5;124;43m'\u001b[39;49m\u001b[43m,\u001b[49m\u001b[43m \u001b[49m\u001b[43matoms\u001b[49m\u001b[43m)\u001b[49m\n\u001b[1;32m    710\u001b[0m     \u001b[38;5;28;01mif\u001b[39;00m force_consistent:\n\u001b[1;32m    711\u001b[0m         \u001b[38;5;28;01mif\u001b[39;00m \u001b[38;5;124m'\u001b[39m\u001b[38;5;124mfree_energy\u001b[39m\u001b[38;5;124m'\u001b[39m \u001b[38;5;129;01mnot\u001b[39;00m \u001b[38;5;129;01min\u001b[39;00m \u001b[38;5;28mself\u001b[39m\u001b[38;5;241m.\u001b[39mresults:\n",
      "File \u001b[0;32m~/miniconda3/envs/pyiron/lib/python3.12/site-packages/ase/calculators/calculator.py:737\u001b[0m, in \u001b[0;36mCalculator.get_property\u001b[0;34m(self, name, atoms, allow_calculation)\u001b[0m\n\u001b[1;32m    735\u001b[0m     \u001b[38;5;28;01mif\u001b[39;00m \u001b[38;5;129;01mnot\u001b[39;00m allow_calculation:\n\u001b[1;32m    736\u001b[0m         \u001b[38;5;28;01mreturn\u001b[39;00m \u001b[38;5;28;01mNone\u001b[39;00m\n\u001b[0;32m--> 737\u001b[0m     \u001b[38;5;28;43mself\u001b[39;49m\u001b[38;5;241;43m.\u001b[39;49m\u001b[43mcalculate\u001b[49m\u001b[43m(\u001b[49m\u001b[43matoms\u001b[49m\u001b[43m,\u001b[49m\u001b[43m \u001b[49m\u001b[43m[\u001b[49m\u001b[43mname\u001b[49m\u001b[43m]\u001b[49m\u001b[43m,\u001b[49m\u001b[43m \u001b[49m\u001b[43msystem_changes\u001b[49m\u001b[43m)\u001b[49m\n\u001b[1;32m    739\u001b[0m \u001b[38;5;28;01mif\u001b[39;00m name \u001b[38;5;129;01mnot\u001b[39;00m \u001b[38;5;129;01min\u001b[39;00m \u001b[38;5;28mself\u001b[39m\u001b[38;5;241m.\u001b[39mresults:\n\u001b[1;32m    740\u001b[0m     \u001b[38;5;66;03m# For some reason the calculator was not able to do what we want,\u001b[39;00m\n\u001b[1;32m    741\u001b[0m     \u001b[38;5;66;03m# and that is OK.\u001b[39;00m\n\u001b[1;32m    742\u001b[0m     \u001b[38;5;28;01mraise\u001b[39;00m PropertyNotImplementedError(\u001b[38;5;124m'\u001b[39m\u001b[38;5;132;01m{}\u001b[39;00m\u001b[38;5;124m not present in this \u001b[39m\u001b[38;5;124m'\u001b[39m\n\u001b[1;32m    743\u001b[0m                                       \u001b[38;5;124m'\u001b[39m\u001b[38;5;124mcalculation\u001b[39m\u001b[38;5;124m'\u001b[39m\u001b[38;5;241m.\u001b[39mformat(name))\n",
      "File \u001b[0;32m~/miniconda3/envs/pyiron/lib/python3.12/site-packages/ase/calculators/lammpsrun.py:321\u001b[0m, in \u001b[0;36mLAMMPS.calculate\u001b[0;34m(self, atoms, properties, system_changes)\u001b[0m\n\u001b[1;32m    319\u001b[0m     system_changes \u001b[38;5;241m=\u001b[39m all_changes\n\u001b[1;32m    320\u001b[0m Calculator\u001b[38;5;241m.\u001b[39mcalculate(\u001b[38;5;28mself\u001b[39m, atoms, properties, system_changes)\n\u001b[0;32m--> 321\u001b[0m \u001b[38;5;28;43mself\u001b[39;49m\u001b[38;5;241;43m.\u001b[39;49m\u001b[43mrun\u001b[49m\u001b[43m(\u001b[49m\u001b[43m)\u001b[49m\n",
      "File \u001b[0;32m~/miniconda3/envs/pyiron/lib/python3.12/site-packages/ase/calculators/lammpsrun.py:488\u001b[0m, in \u001b[0;36mLAMMPS.run\u001b[0;34m(self, set_atoms)\u001b[0m\n\u001b[1;32m    486\u001b[0m \u001b[38;5;66;03m# A few sanity checks\u001b[39;00m\n\u001b[1;32m    487\u001b[0m \u001b[38;5;28;01mif\u001b[39;00m \u001b[38;5;28mlen\u001b[39m(\u001b[38;5;28mself\u001b[39m\u001b[38;5;241m.\u001b[39mthermo_content) \u001b[38;5;241m==\u001b[39m \u001b[38;5;241m0\u001b[39m:\n\u001b[0;32m--> 488\u001b[0m     \u001b[38;5;28;01mraise\u001b[39;00m \u001b[38;5;167;01mRuntimeError\u001b[39;00m(\u001b[38;5;124m\"\u001b[39m\u001b[38;5;124mFailed to retrieve any thermo_style-output\u001b[39m\u001b[38;5;124m\"\u001b[39m)\n\u001b[1;32m    489\u001b[0m \u001b[38;5;28;01mif\u001b[39;00m \u001b[38;5;28mint\u001b[39m(\u001b[38;5;28mself\u001b[39m\u001b[38;5;241m.\u001b[39mthermo_content[\u001b[38;5;241m-\u001b[39m\u001b[38;5;241m1\u001b[39m][\u001b[38;5;124m\"\u001b[39m\u001b[38;5;124matoms\u001b[39m\u001b[38;5;124m\"\u001b[39m]) \u001b[38;5;241m!=\u001b[39m \u001b[38;5;28mlen\u001b[39m(\u001b[38;5;28mself\u001b[39m\u001b[38;5;241m.\u001b[39matoms):\n\u001b[1;32m    490\u001b[0m     \u001b[38;5;66;03m# This obviously shouldn't happen, but if prism.fold_...() fails,\u001b[39;00m\n\u001b[1;32m    491\u001b[0m     \u001b[38;5;66;03m# it could\u001b[39;00m\n\u001b[1;32m    492\u001b[0m     \u001b[38;5;28;01mraise\u001b[39;00m \u001b[38;5;167;01mRuntimeError\u001b[39;00m(\u001b[38;5;124m\"\u001b[39m\u001b[38;5;124mAtoms have gone missing\u001b[39m\u001b[38;5;124m\"\u001b[39m)\n",
      "\u001b[0;31mRuntimeError\u001b[0m: Failed to retrieve any thermo_style-output"
     ]
    }
   ],
   "source": [
    "from ase import Atom, Atoms\n",
    "from ase.build import bulk\n",
    "from ase.calculators.lammpsrun import LAMMPS\n",
    "\n",
    "parameters = {'pair_style': 'eam/alloy',\n",
    "            'pair_coeff': ['* * NiAlH_jea.eam.alloy H Al']}\n",
    "\n",
    "files = ['NiAlH_jea.eam.alloy']\n",
    "\n",
    "Ni = bulk('Ni', cubic=True)\n",
    "H = Atom('H', position=Ni.cell.diagonal()/2)\n",
    "NiH = Ni + H\n",
    "\n",
    "lammps = LAMMPS(parameters=parameters, files=files)\n",
    "\n",
    "NiH.calc = lammps\n",
    "NiH.get_potential_energy()"
   ]
  },
  {
   "cell_type": "markdown",
   "id": "6395b84c-18f7-4af4-b2eb-be965eaeb503",
   "metadata": {},
   "source": [
    "https://wiki.fysik.dtu.dk/ase/ase/calculators/lammpsrun.html#lammps"
   ]
  },
  {
   "cell_type": "markdown",
   "id": "e9248e51-8bc8-41b1-a7c6-ba2ce99c8c0a",
   "metadata": {},
   "source": [
    "?"
   ]
  },
  {
   "cell_type": "code",
   "execution_count": null,
   "id": "d4d50e9f-1179-475d-b84e-2d8e345190d2",
   "metadata": {},
   "outputs": [],
   "source": []
  },
  {
   "cell_type": "markdown",
   "id": "684548c2-727e-447a-88ee-172cbdf6bd11",
   "metadata": {},
   "source": [
    "3. Diffusivity of H atoms (see diffusivity and C)"
   ]
  },
  {
   "cell_type": "code",
   "execution_count": null,
   "id": "b660add0-0881-4e6e-b28c-f83b67bcbea2",
   "metadata": {},
   "outputs": [],
   "source": []
  },
  {
   "cell_type": "code",
   "execution_count": null,
   "id": "dbeb1f32-dc2f-4ce1-9ef4-56460004cc67",
   "metadata": {},
   "outputs": [],
   "source": []
  },
  {
   "cell_type": "code",
   "execution_count": null,
   "id": "67da457d-61c0-4fe6-9be5-76e92b94a79d",
   "metadata": {},
   "outputs": [],
   "source": []
  }
 ],
 "metadata": {
  "kernelspec": {
   "display_name": "Python 3 (ipykernel)",
   "language": "python",
   "name": "python3"
  },
  "language_info": {
   "codemirror_mode": {
    "name": "ipython",
    "version": 3
   },
   "file_extension": ".py",
   "mimetype": "text/x-python",
   "name": "python",
   "nbconvert_exporter": "python",
   "pygments_lexer": "ipython3",
   "version": "3.12.3"
  }
 },
 "nbformat": 4,
 "nbformat_minor": 5
}
